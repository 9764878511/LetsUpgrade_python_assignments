{
 "cells": [
  {
   "cell_type": "markdown",
   "metadata": {},
   "source": [
    "# Question 1"
   ]
  },
  {
   "cell_type": "raw",
   "metadata": {},
   "source": [
    "Do the project - Email sending using python"
   ]
  },
  {
   "cell_type": "code",
   "execution_count": 44,
   "metadata": {},
   "outputs": [
    {
     "name": "stdout",
     "output_type": "stream",
     "text": [
      "Requirement already satisfied: emails in c:\\users\\dell\\anaconda3\\temp\\lib\\site-packages (0.6)\n",
      "Requirement already satisfied: premailer in c:\\users\\dell\\anaconda3\\temp\\lib\\site-packages (from emails) (3.7.0)\n",
      "Requirement already satisfied: requests in c:\\users\\dell\\anaconda3\\temp\\lib\\site-packages (from emails) (2.22.0)\n",
      "Requirement already satisfied: cssutils in c:\\users\\dell\\anaconda3\\temp\\lib\\site-packages (from emails) (1.0.2)\n",
      "Requirement already satisfied: python-dateutil in c:\\users\\dell\\anaconda3\\temp\\lib\\site-packages (from emails) (2.8.1)\n",
      "Requirement already satisfied: chardet in c:\\users\\dell\\anaconda3\\temp\\lib\\site-packages (from emails) (3.0.4)\n",
      "Requirement already satisfied: lxml in c:\\users\\dell\\anaconda3\\temp\\lib\\site-packages (from emails) (4.5.0)\n",
      "Requirement already satisfied: cachetools in c:\\users\\dell\\anaconda3\\temp\\lib\\site-packages (from premailer->emails) (4.2.0)\n",
      "Requirement already satisfied: cssselect in c:\\users\\dell\\anaconda3\\temp\\lib\\site-packages (from premailer->emails) (1.1.0)\n",
      "Requirement already satisfied: urllib3!=1.25.0,!=1.25.1,<1.26,>=1.21.1 in c:\\users\\dell\\anaconda3\\temp\\lib\\site-packages (from requests->emails) (1.25.8)\n",
      "Requirement already satisfied: certifi>=2017.4.17 in c:\\users\\dell\\anaconda3\\temp\\lib\\site-packages (from requests->emails) (2019.11.28)\n",
      "Requirement already satisfied: idna<2.9,>=2.5 in c:\\users\\dell\\anaconda3\\temp\\lib\\site-packages (from requests->emails) (2.8)\n",
      "Requirement already satisfied: six>=1.5 in c:\\users\\dell\\anaconda3\\temp\\lib\\site-packages (from python-dateutil->emails) (1.14.0)\n"
     ]
    }
   ],
   "source": [
    "!pip install emails"
   ]
  },
  {
   "cell_type": "markdown",
   "metadata": {},
   "source": [
    "# Project"
   ]
  },
  {
   "cell_type": "code",
   "execution_count": 45,
   "metadata": {},
   "outputs": [],
   "source": [
    "import emails"
   ]
  },
  {
   "cell_type": "code",
   "execution_count": 46,
   "metadata": {},
   "outputs": [],
   "source": [
    "html_text = '''<p>Hey Rowady,</p>\n",
    "               <p>Now are you this is Sayali LetsUpgrade</p>\n",
    "<p>Chief Rowady at LU!!</p>\n",
    "<p>I like to learn python.</p>'''\n",
    "\n",
    "message = emails.html(html=html_text,\n",
    "                          subject=\"Your email from python script\",\n",
    "                          mail_from=('Some Store', 'store@somestore.com'))"
   ]
  },
  {
   "cell_type": "code",
   "execution_count": 48,
   "metadata": {},
   "outputs": [],
   "source": [
    "mail_via_python = message.send(to='s@lavr.me', smtp={'host': 'aspmx.l.google.com', \n",
    "                                                     'timeout': 5,\n",
    "                                                      'port':587,\n",
    "                                                      'user':'sayalipednekar077@gmail.com',\n",
    "                                                       'password':'sayali123',\n",
    "                                                       'tls':True})"
   ]
  },
  {
   "cell_type": "code",
   "execution_count": 49,
   "metadata": {},
   "outputs": [
    {
     "data": {
      "text/plain": [
       "<emails.backend.SMTPResponse status_code=None status_text=None>"
      ]
     },
     "execution_count": 49,
     "metadata": {},
     "output_type": "execute_result"
    }
   ],
   "source": [
    "mail_via_python"
   ]
  },
  {
   "cell_type": "code",
   "execution_count": 50,
   "metadata": {},
   "outputs": [],
   "source": [
    "def sendMail(email,name):\n",
    "    html_text = '''<p>Hey Rowady,</p>\n",
    "                   <p>Now are you this is Sayali LetsUpgrade</p>\n",
    "                   <p>Chief Rowady at LU!!</p>\n",
    "                   <p>I like to learn python.</p>'''\n",
    "    \n",
    "    subject = \"Hey Rowady\" + name + \"You have emailFrom Sayali\"\n",
    "    message = emails.html(html=html_text,\n",
    "                          subject=subject,\n",
    "                          mail_from=('Some Store', 'store@somestore.com'))\n",
    "    \n",
    "    mail_via_python = message.send(to='s@lavr.me', smtp={'host': 'aspmx.l.google.com', \n",
    "                                                     'timeout': 5,\n",
    "                                                      'port':587,\n",
    "                                                      'user':'sayalipednekar077@gmail.com',\n",
    "                                                       'password':'sayali123',\n",
    "                                                       'tls':True})\n",
    "    return mail_via_python.status_code"
   ]
  },
  {
   "cell_type": "code",
   "execution_count": 51,
   "metadata": {},
   "outputs": [],
   "source": [
    "sendMail(\"rpednekar.2000@gmail.com\",\"Sayali\")"
   ]
  }
 ],
 "metadata": {
  "kernelspec": {
   "display_name": "Python 3",
   "language": "python",
   "name": "python3"
  },
  "language_info": {
   "codemirror_mode": {
    "name": "ipython",
    "version": 3
   },
   "file_extension": ".py",
   "mimetype": "text/x-python",
   "name": "python",
   "nbconvert_exporter": "python",
   "pygments_lexer": "ipython3",
   "version": "3.7.6"
  }
 },
 "nbformat": 4,
 "nbformat_minor": 4
}
