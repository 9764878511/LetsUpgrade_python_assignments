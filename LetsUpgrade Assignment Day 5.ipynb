{
 "cells": [
  {
   "cell_type": "markdown",
   "metadata": {},
   "source": [
    "# Write a Python Program which converts, any given text to chiper text and when encrypted key is available it should convert back to the normal message"
   ]
  },
  {
   "cell_type": "code",
   "execution_count": 1,
   "metadata": {},
   "outputs": [
    {
     "name": "stdout",
     "output_type": "stream",
     "text": [
      "Requirement already satisfied: cryptography in c:\\users\\dell\\anaconda3\\temp\\lib\\site-packages (2.8)\n",
      "Requirement already satisfied: cffi!=1.11.3,>=1.8 in c:\\users\\dell\\anaconda3\\temp\\lib\\site-packages (from cryptography) (1.14.0)\n",
      "Requirement already satisfied: six>=1.4.1 in c:\\users\\dell\\anaconda3\\temp\\lib\\site-packages (from cryptography) (1.14.0)\n",
      "Requirement already satisfied: pycparser in c:\\users\\dell\\anaconda3\\temp\\lib\\site-packages (from cffi!=1.11.3,>=1.8->cryptography) (2.19)\n",
      "Note: you may need to restart the kernel to use updated packages.\n"
     ]
    }
   ],
   "source": [
    "pip install cryptography"
   ]
  },
  {
   "cell_type": "code",
   "execution_count": 2,
   "metadata": {},
   "outputs": [],
   "source": [
    "from cryptography.fernet import Fernet"
   ]
  },
  {
   "cell_type": "code",
   "execution_count": 9,
   "metadata": {},
   "outputs": [],
   "source": [
    "def genratePassKey():\n",
    "    key = Fernet.generate_key()\n",
    "    print(key)\n",
    "    print(type(key))\n",
    "    abc = open(\"PasswordKey.key\",'wb')\n",
    "    abc.write(key)\n",
    "    abc.close()"
   ]
  },
  {
   "cell_type": "code",
   "execution_count": 10,
   "metadata": {},
   "outputs": [
    {
     "name": "stdout",
     "output_type": "stream",
     "text": [
      "b'_bHixkmvl_6a1kduYnzo3WGYrmf0DnMoH3otFMGEmeQ='\n",
      "<class 'bytes'>\n"
     ]
    }
   ],
   "source": [
    "genratePassKey()"
   ]
  },
  {
   "cell_type": "code",
   "execution_count": 11,
   "metadata": {},
   "outputs": [],
   "source": [
    "def getMyKey():\n",
    "    abc = open(\"PasswordKey.key\",'rb')\n",
    "    return abc.read()"
   ]
  },
  {
   "cell_type": "code",
   "execution_count": 12,
   "metadata": {},
   "outputs": [
    {
     "data": {
      "text/plain": [
       "b'_bHixkmvl_6a1kduYnzo3WGYrmf0DnMoH3otFMGEmeQ='"
      ]
     },
     "execution_count": 12,
     "metadata": {},
     "output_type": "execute_result"
    }
   ],
   "source": [
    "getMyKey()"
   ]
  },
  {
   "cell_type": "code",
   "execution_count": 15,
   "metadata": {},
   "outputs": [],
   "source": [
    "def getContentFromUser():\n",
    "    return input(\"Enter the content you want to Encrypt in your python Script \")"
   ]
  },
  {
   "cell_type": "code",
   "execution_count": 16,
   "metadata": {},
   "outputs": [
    {
     "name": "stdout",
     "output_type": "stream",
     "text": [
      "Enter the content you want to Encrypt in your python Script HEY I LOVE TO CODE IN PYTHON\n"
     ]
    },
    {
     "data": {
      "text/plain": [
       "'HEY I LOVE TO CODE IN PYTHON'"
      ]
     },
     "execution_count": 16,
     "metadata": {},
     "output_type": "execute_result"
    }
   ],
   "source": [
    "getContentFromUser()"
   ]
  },
  {
   "cell_type": "code",
   "execution_count": 17,
   "metadata": {},
   "outputs": [],
   "source": [
    "def encryptedMessage(message_normal):\n",
    "    key = getMyKey()\n",
    "    k = Fernet(key)\n",
    "    encrypted_Message = k.encrypt(message_normal)\n",
    "    return encrypted_Message"
   ]
  },
  {
   "cell_type": "code",
   "execution_count": 20,
   "metadata": {},
   "outputs": [
    {
     "data": {
      "text/plain": [
       "b'gAAAAABf2MOW4N5OcHhPbi49iD-wsQcqdnev9IITqi-7W3rBWWMvZYGVKhqFdHtMXAzFkNIsXzUdD3i5YmAkrF1bi2piS_A2cg=='"
      ]
     },
     "execution_count": 20,
     "metadata": {},
     "output_type": "execute_result"
    }
   ],
   "source": [
    "encryptedMessage(b\"HEY\")"
   ]
  },
  {
   "cell_type": "code",
   "execution_count": 21,
   "metadata": {},
   "outputs": [],
   "source": [
    "def decryptedMessage(message_secret):\n",
    "    key = getMyKey()\n",
    "    k = Fernet(key)\n",
    "    dencrypted_Message = k.encrypt(message_secret)\n",
    "    return dencrypted_Message"
   ]
  },
  {
   "cell_type": "code",
   "execution_count": 22,
   "metadata": {},
   "outputs": [
    {
     "data": {
      "text/plain": [
       "b'gAAAAABf2MRTQQl2xdXpPDkZHbgZaVa1MZNG4y9FMOYClczJcQpaDfxKlp8YymYzAZWL6BKxORX7eli_4SOrWYrqjuUHshmlfXRtYp5eUrKAmf1BOOYw3zHReuGbq01GDAQkcniEt4Kt0CRt9yUcVBKedtRluWOgiV3_ZM1iIUkOHHuGMaB7PwbeCSJHya55KyGhXYpeNlzzrFvAwc6H8G5v0lDKb8BcZA=='"
      ]
     },
     "execution_count": 22,
     "metadata": {},
     "output_type": "execute_result"
    }
   ],
   "source": [
    "decryptedMessage(b'gAAAAABf2MOW4N5OcHhPbi49iD-wsQcqdnev9IITqi-7W3rBWWMvZYGVKhqFdHtMXAzFkNIsXzUdD3i5YmAkrF1bi2piS_A2cg==')"
   ]
  }
 ],
 "metadata": {
  "kernelspec": {
   "display_name": "Python 3",
   "language": "python",
   "name": "python3"
  },
  "language_info": {
   "codemirror_mode": {
    "name": "ipython",
    "version": 3
   },
   "file_extension": ".py",
   "mimetype": "text/x-python",
   "name": "python",
   "nbconvert_exporter": "python",
   "pygments_lexer": "ipython3",
   "version": "3.7.6"
  }
 },
 "nbformat": 4,
 "nbformat_minor": 4
}
